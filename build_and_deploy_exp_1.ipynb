{
  "nbformat": 4,
  "nbformat_minor": 0,
  "metadata": {
    "colab": {
      "provenance": []
    },
    "kernelspec": {
      "name": "python3",
      "display_name": "Python 3"
    },
    "language_info": {
      "name": "python"
    }
  },
  "cells": [
    {
      "cell_type": "code",
      "execution_count": null,
      "metadata": {
        "colab": {
          "base_uri": "https://localhost:8080/"
        },
        "id": "-qeMxSfx_BQi",
        "outputId": "57bcd2cf-ef52-45e1-d6e2-5db89bf5f2de"
      },
      "outputs": [
        {
          "output_type": "stream",
          "name": "stdout",
          "text": [
            "Train shape: (712, 7) | Test shape: (179, 7)\n",
            "     pclass  sex       age  sibsp  parch      fare  embark_town\n",
            "331       1    1  1.240235      0      0 -0.074583            2\n",
            "733       2    1 -0.488887      0      0 -0.386671            2\n",
            "382       3    1  0.202762      0      0 -0.488854            2\n",
            "704       3    1 -0.258337      1      0 -0.490280            2\n",
            "813       3    0 -1.795334      4      2 -0.018709            2\n"
          ]
        },
        {
          "output_type": "stream",
          "name": "stderr",
          "text": [
            "/tmp/ipython-input-192017002.py:10: FutureWarning: A value is trying to be set on a copy of a DataFrame or Series through chained assignment using an inplace method.\n",
            "The behavior will change in pandas 3.0. This inplace method will never work because the intermediate object on which we are setting values always behaves as a copy.\n",
            "\n",
            "For example, when doing 'df[col].method(value, inplace=True)', try using 'df.method({col: value}, inplace=True)' or df[col] = df[col].method(value) instead, to perform the operation inplace on the original object.\n",
            "\n",
            "\n",
            "  df['age'].fillna(df['age'].median(), inplace=True)\n",
            "/tmp/ipython-input-192017002.py:11: FutureWarning: A value is trying to be set on a copy of a DataFrame or Series through chained assignment using an inplace method.\n",
            "The behavior will change in pandas 3.0. This inplace method will never work because the intermediate object on which we are setting values always behaves as a copy.\n",
            "\n",
            "For example, when doing 'df[col].method(value, inplace=True)', try using 'df.method({col: value}, inplace=True)' or df[col] = df[col].method(value) instead, to perform the operation inplace on the original object.\n",
            "\n",
            "\n",
            "  df['embark_town'].fillna(df['embark_town'].mode()[0], inplace=True)\n"
          ]
        }
      ],
      "source": [
        "import pandas as pd\n",
        "import seaborn as sns\n",
        "from sklearn.model_selection import train_test_split\n",
        "from sklearn.preprocessing import StandardScaler, LabelEncoder\n",
        "\n",
        "# Load dataset\n",
        "df = sns.load_dataset('titanic')\n",
        "\n",
        "# Handle missing values\n",
        "df['age'].fillna(df['age'].median(), inplace=True)\n",
        "df['embark_town'].fillna(df['embark_town'].mode()[0], inplace=True)\n",
        "df.drop(columns=['deck'], inplace=True)\n",
        "\n",
        "# Encode categorical columns\n",
        "le = LabelEncoder()\n",
        "for col in ['sex', 'embark_town']:\n",
        "    df[col] = le.fit_transform(df[col])\n",
        "\n",
        "# Drop unwanted columns\n",
        "df.drop(columns=['embarked', 'class', 'who', 'alive', 'adult_male', 'alone'], inplace=True)\n",
        "\n",
        "# Scale numerical features\n",
        "df[['age', 'fare']] = StandardScaler().fit_transform(df[['age', 'fare']])\n",
        "\n",
        "# Split dataset\n",
        "X = df.drop('survived', axis=1)\n",
        "y = df['survived']\n",
        "X_train, X_test, y_train, y_test = train_test_split(X, y, test_size=0.2, random_state=42)\n",
        "\n",
        "print(\"Train shape:\", X_train.shape, \"| Test shape:\", X_test.shape)\n",
        "print(X_train.head())"
      ]
    }
  ]
}